{
 "cells": [
  {
   "cell_type": "code",
   "execution_count": 1,
   "metadata": {},
   "outputs": [],
   "source": [
    "# importing modules\n",
    "import numpy as np\n",
    "from sklearn import model_selection"
   ]
  },
  {
   "cell_type": "code",
   "execution_count": 2,
   "metadata": {},
   "outputs": [],
   "source": [
    "# getting training and testing data\n",
    "data = np.genfromtxt(\"0000000000002419_training_ccpp_x_y_train (1).csv\", delimiter=\",\")\n",
    "data1 = np.genfromtxt(\"0000000000002419_test_ccpp_x_test.csv\",delimiter=\",\")\n",
    "# preprocessing data\n",
    "X = data[:,0:4]\n",
    "Y = data[:,4:5]\n",
    "x1 = data1[:,0:4]\n",
    "one_column = np.ones([X.shape[0],1])\n",
    "one_column1 = np.ones([x1.shape[0],1])\n",
    "X = np.concatenate((one_column,X), axis=1)\n",
    "x1 = np.concatenate((one_column1,x1), axis=1)"
   ]
  },
  {
   "cell_type": "code",
   "execution_count": 3,
   "metadata": {},
   "outputs": [],
   "source": [
    "# splittig data into training and testing \n",
    "X_train,X_test,Y_train,Y_test = model_selection.train_test_split(X,Y,random_state=1)\n"
   ]
  },
  {
   "cell_type": "code",
   "execution_count": null,
   "metadata": {},
   "outputs": [],
   "source": [
    "# here I have made a Logistic regression model on my own"
   ]
  },
  {
   "cell_type": "code",
   "execution_count": 12,
   "metadata": {},
   "outputs": [],
   "source": [
    "alpha =0.0000008\n",
    "count = 8000"
   ]
  },
  {
   "cell_type": "code",
   "execution_count": 13,
   "metadata": {},
   "outputs": [],
   "source": [
    "def hypo(X_train,m):\n",
    "    c=np.dot(X_train,np.transpose(m))\n",
    "    return c\n"
   ]
  },
  {
   "cell_type": "code",
   "execution_count": 14,
   "metadata": {},
   "outputs": [],
   "source": [
    "def step_gd(X_train,Y_train,m,alpha,n):\n",
    "    M = X_train.shape[0]\n",
    "    c = np.zeros(M)\n",
    "    new_slope = np.zeros(n)\n",
    "    for i in range(n):\n",
    "        c = hypo(X_train,m)\n",
    "        m_slope = 0\n",
    "        for j in range(M):\n",
    "            m_slope += (c[j]-Y_train[j][0])*X_train[j][i]\n",
    "        m_slope *= (2/M)\n",
    "        new_slope[i] = m[i] - alpha*m_slope\n",
    "    return new_slope\n"
   ]
  },
  {
   "cell_type": "code",
   "execution_count": 15,
   "metadata": {},
   "outputs": [],
   "source": [
    "def gd(X_train,Y_train,alpha,count):\n",
    "    n = X_train.shape[1]\n",
    "    m = np.zeros(n)\n",
    "    \n",
    "    for i in range(count):\n",
    "        m=step_gd(X_train,Y_train,m,alpha,n)\n",
    "    return m\n",
    "\n",
    "\n",
    "m=gd(X_train,Y_train,alpha,count)\n"
   ]
  },
  {
   "cell_type": "code",
   "execution_count": 25,
   "metadata": {},
   "outputs": [],
   "source": [
    "# getting the predictions\n",
    "def pred(x1,m):\n",
    "    c=hypo(x1,m)\n",
    "    c2=np.transpose(c)\n",
    "    y_pred=np.zeros([x1.shape[0]])\n",
    "    for i in range(x1.shape[0]):\n",
    "         y_pred[i]+=c2[i]\n",
    "    return y_pred     \n",
    "\n",
    "y_pred=pred(x1,m)\n",
    "\n"
   ]
  },
  {
   "cell_type": "code",
   "execution_count": 17,
   "metadata": {},
   "outputs": [
    {
     "name": "stdout",
     "output_type": "stream",
     "text": [
      "0.8358298685975074\n"
     ]
    }
   ],
   "source": [
    "def score(Y_test,y_pred):\n",
    "    for i in range(Y_test.shape[0]):\n",
    "        \n",
    "        u=((Y_test[i]-y_pred[i])**2).sum()\n",
    "        v=((Y_test[i]-Y_test.mean())**2).sum()\n",
    "        \n",
    "    score=1-u/v \n",
    "    print(score)\n",
    "    \n",
    "score(Y_test,y_pred)   "
   ]
  },
  {
   "cell_type": "code",
   "execution_count": 26,
   "metadata": {},
   "outputs": [],
   "source": [
    "np.savetxt('ccpp_final4.csv',y_pred)"
   ]
  },
  {
   "cell_type": "code",
   "execution_count": 11,
   "metadata": {},
   "outputs": [
    {
     "data": {
      "text/plain": [
       "array([[475.43],\n",
       "       [438.66],\n",
       "       [442.2 ],\n",
       "       ...,\n",
       "       [438.72],\n",
       "       [455.14],\n",
       "       [463.08]])"
      ]
     },
     "execution_count": 11,
     "metadata": {},
     "output_type": "execute_result"
    }
   ],
   "source": []
  },
  {
   "cell_type": "code",
   "execution_count": null,
   "metadata": {},
   "outputs": [],
   "source": []
  },
  {
   "cell_type": "code",
   "execution_count": null,
   "metadata": {},
   "outputs": [],
   "source": []
  }
 ],
 "metadata": {
  "kernelspec": {
   "display_name": "Python 3",
   "language": "python",
   "name": "python3"
  },
  "language_info": {
   "codemirror_mode": {
    "name": "ipython",
    "version": 3
   },
   "file_extension": ".py",
   "mimetype": "text/x-python",
   "name": "python",
   "nbconvert_exporter": "python",
   "pygments_lexer": "ipython3",
   "version": "3.7.3"
  }
 },
 "nbformat": 4,
 "nbformat_minor": 2
}
