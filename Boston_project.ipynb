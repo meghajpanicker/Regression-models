{
 "cells": [
  {
   "cell_type": "code",
   "execution_count": 1,
   "metadata": {},
   "outputs": [],
   "source": [
    "# import necessary modules\n",
    "import numpy as np\n",
    "from sklearn import model_selection\n",
    "\n",
    "data = np.genfromtxt(\"0000000000002417_training_boston_x_y_train.csv\",delimiter=\",\")\n",
    "   \n",
    "data1 = np.genfromtxt(\"0000000000002417_test_boston_x_test.csv\",delimiter=\",\")\n",
    "X = data[:,0:13]\n",
    "Y = data[:,13:14]\n",
    "x1 = data1[:,0:13]\n",
    "one_column = np.ones([X.shape[0],1])\n",
    "one_column1 = np.ones([x1.shape[0],1])\n",
    "X = np.concatenate((one_column,X), axis=1)\n",
    "x1 = np.concatenate((one_column1,x1), axis=1)\n",
    "\n",
    "X_train,X_test,Y_train,Y_test = model_selection.train_test_split(X,Y)\n",
    "\n",
    "alpha = 0.05\n",
    "count = 1000"
   ]
  },
  {
   "cell_type": "code",
   "execution_count": 2,
   "metadata": {},
   "outputs": [],
   "source": [
    "def gd(X_train,Y_train,alpha,count):\n",
    "    n = X_train.shape[1]\n",
    "    m = np.zeros(n)\n",
    "    for i in range(count):\n",
    "        m = step_gd(X_train,Y_train,m,alpha,n)\n",
    "    return m"
   ]
  },
  {
   "cell_type": "code",
   "execution_count": 3,
   "metadata": {},
   "outputs": [],
   "source": [
    "def hypo(X_train,m):\n",
    "    c= np.dot(X_train, np.transpose(m))\n",
    "    return c"
   ]
  },
  {
   "cell_type": "code",
   "execution_count": 4,
   "metadata": {},
   "outputs": [],
   "source": [
    "def step_gd(X_train,Y_train,m,alpha,n):\n",
    "    M = X_train.shape[0]\n",
    "    c = np.zeros(M)\n",
    "    new_slope = np.zeros(n)\n",
    "    for i in range(n):\n",
    "        c = hypo(X_train,m)\n",
    "        m_slope = 0\n",
    "        for j in range(M):\n",
    "            m_slope += (c[j] - Y_train[j][0])*X_train[j][i]\n",
    "        m_slope *= (2/M)\n",
    "        new_slope[i] = m[i] - alpha*m_slope\n",
    "    return new_slope"
   ]
  },
  {
   "cell_type": "code",
   "execution_count": 5,
   "metadata": {},
   "outputs": [
    {
     "data": {
      "text/plain": [
       "array([22.80394849, -0.91957397,  0.61767333, -0.12166541,  1.03849434,\n",
       "       -2.15274995,  2.82934924,  0.09946898, -2.81294855,  2.73839619,\n",
       "       -1.5197255 , -2.36140671,  0.72402153, -4.09707893])"
      ]
     },
     "execution_count": 5,
     "metadata": {},
     "output_type": "execute_result"
    }
   ],
   "source": [
    "m=gd(X_train,Y_train,alpha,count)\n",
    "m"
   ]
  },
  {
   "cell_type": "code",
   "execution_count": 6,
   "metadata": {},
   "outputs": [],
   "source": [
    "def pred(x1,m):\n",
    "    c=hypo(x1,m)\n",
    "    c2=np.transpose(c)\n",
    "    y_pred=np.zeros([x1.shape[0]])\n",
    "\n",
    "    for i in range(x1.shape[0]):\n",
    "        y_pred[i]+=c2[i]\n",
    "    return y_pred\n",
    "y_pred=pred(x1,m)"
   ]
  },
  {
   "cell_type": "code",
   "execution_count": 9,
   "metadata": {},
   "outputs": [],
   "source": [
    "np.savetxt(\"boston_test1.csv\",y_pred)"
   ]
  },
  {
   "cell_type": "code",
   "execution_count": null,
   "metadata": {},
   "outputs": [],
   "source": []
  },
  {
   "cell_type": "code",
   "execution_count": null,
   "metadata": {},
   "outputs": [],
   "source": []
  }
 ],
 "metadata": {
  "kernelspec": {
   "display_name": "Python 3",
   "language": "python",
   "name": "python3"
  },
  "language_info": {
   "codemirror_mode": {
    "name": "ipython",
    "version": 3
   },
   "file_extension": ".py",
   "mimetype": "text/x-python",
   "name": "python",
   "nbconvert_exporter": "python",
   "pygments_lexer": "ipython3",
   "version": "3.7.3"
  }
 },
 "nbformat": 4,
 "nbformat_minor": 2
}
